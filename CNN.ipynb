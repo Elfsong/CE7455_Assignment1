{
 "cells": [
  {
   "cell_type": "code",
   "execution_count": 20,
   "metadata": {},
   "outputs": [],
   "source": [
    "import torch\n",
    "from torchtext import data\n",
    "\n",
    "SEED = 1234\n",
    "\n",
    "torch.manual_seed(SEED)\n",
    "torch.backends.cudnn.deterministic = True\n",
    "\n",
    "TEXT = data.Field(tokenize = 'spacy',\n",
    "                  tokenizer_language = 'en_core_web_sm',\n",
    "                  include_lengths = True,\n",
    "                  batch_first = True)\n",
    "LABEL = data.LabelField(dtype = torch.float)"
   ]
  },
  {
   "cell_type": "code",
   "execution_count": 21,
   "metadata": {},
   "outputs": [],
   "source": [
    "from torchtext import datasets\n",
    "\n",
    "train_data, test_data = datasets.IMDB.splits(TEXT, LABEL)"
   ]
  },
  {
   "cell_type": "code",
   "execution_count": 22,
   "metadata": {},
   "outputs": [
    {
     "name": "stdout",
     "output_type": "stream",
     "text": [
      "Number of training examples: 25000\n",
      "Number of testing examples: 25000\n"
     ]
    }
   ],
   "source": [
    "print(f'Number of training examples: {len(train_data)}')\n",
    "print(f'Number of testing examples: {len(test_data)}')"
   ]
  },
  {
   "cell_type": "code",
   "execution_count": 23,
   "metadata": {},
   "outputs": [],
   "source": [
    "import random\n",
    "\n",
    "train_data, valid_data = train_data.split(random_state = random.seed(SEED))"
   ]
  },
  {
   "cell_type": "code",
   "execution_count": 24,
   "metadata": {},
   "outputs": [
    {
     "name": "stdout",
     "output_type": "stream",
     "text": [
      "Number of training examples: 17500\n",
      "Number of validation examples: 7500\n",
      "Number of testing examples: 25000\n"
     ]
    }
   ],
   "source": [
    "print(f'Number of training examples: {len(train_data)}')\n",
    "print(f'Number of validation examples: {len(valid_data)}')\n",
    "print(f'Number of testing examples: {len(test_data)}')"
   ]
  },
  {
   "cell_type": "code",
   "execution_count": 25,
   "metadata": {},
   "outputs": [],
   "source": [
    "MAX_VOCAB_SIZE = 25_000\n",
    "\n",
    "TEXT.build_vocab(train_data, max_size = MAX_VOCAB_SIZE)\n",
    "LABEL.build_vocab(train_data)"
   ]
  },
  {
   "cell_type": "code",
   "execution_count": 26,
   "metadata": {},
   "outputs": [
    {
     "name": "stdout",
     "output_type": "stream",
     "text": [
      "Unique tokens in TEXT vocabulary: 25002\n",
      "Unique tokens in LABEL vocabulary: 2\n"
     ]
    }
   ],
   "source": [
    "print(f\"Unique tokens in TEXT vocabulary: {len(TEXT.vocab)}\")\n",
    "print(f\"Unique tokens in LABEL vocabulary: {len(LABEL.vocab)}\")"
   ]
  },
  {
   "cell_type": "code",
   "execution_count": 27,
   "metadata": {},
   "outputs": [],
   "source": [
    "BATCH_SIZE = 64\n",
    "\n",
    "device = torch.device('cuda:0' if torch.cuda.is_available() else 'cpu')\n",
    "\n",
    "train_iterator, valid_iterator, test_iterator = data.BucketIterator.splits(\n",
    "    (train_data, valid_data, test_data), \n",
    "    batch_size = BATCH_SIZE,\n",
    "    sort_within_batch = True,\n",
    "    device = device)"
   ]
  },
  {
   "cell_type": "code",
   "execution_count": 28,
   "metadata": {},
   "outputs": [],
   "source": [
    "import torch.nn as nn\n",
    "import torch.nn.functional as F\n",
    "\n",
    "class CNN(nn.Module):\n",
    "    def __init__(self, vocab_size, embedding_dim, n_filters, filter_sizes, output_dim, \n",
    "                 dropout, pad_idx):\n",
    "        \n",
    "        super().__init__()\n",
    "                \n",
    "        self.embedding = nn.Embedding(vocab_size, embedding_dim, padding_idx = pad_idx)\n",
    "        \n",
    "        self.convs = nn.ModuleList([nn.Conv2d(in_channels = 1, \n",
    "                                              out_channels = n_filters, \n",
    "                                              kernel_size = (fs, embedding_dim)) \n",
    "                                    for fs in filter_sizes])\n",
    "        \n",
    "        self.fc = nn.Linear(len(filter_sizes) * n_filters, output_dim)\n",
    "        \n",
    "        self.dropout = nn.Dropout(dropout)\n",
    "        \n",
    "    def forward(self, text, text_lengths):\n",
    "        embedded = self.embedding(text).unsqueeze(1) \n",
    "        conved = [F.relu(conv(embedded)).squeeze(3) for conv in self.convs]       \n",
    "        pooled = [F.max_pool1d(conv, conv.shape[2]).squeeze(2) for conv in conved]\n",
    "        cat = self.dropout(torch.cat(pooled, dim = 1)) \n",
    "        return self.fc(cat)"
   ]
  },
  {
   "cell_type": "code",
   "execution_count": 29,
   "metadata": {},
   "outputs": [],
   "source": [
    "INPUT_DIM = len(TEXT.vocab)\n",
    "EMBEDDING_DIM = 100\n",
    "N_FILTERS = 100\n",
    "FILTER_SIZES = [3,4,5]\n",
    "OUTPUT_DIM = 1\n",
    "DROPOUT = 0.6\n",
    "PAD_IDX = TEXT.vocab.stoi[TEXT.pad_token]\n",
    "\n",
    "model = CNN(INPUT_DIM, EMBEDDING_DIM, N_FILTERS, FILTER_SIZES, OUTPUT_DIM, DROPOUT, PAD_IDX)"
   ]
  },
  {
   "cell_type": "code",
   "execution_count": 30,
   "metadata": {},
   "outputs": [
    {
     "name": "stdout",
     "output_type": "stream",
     "text": [
      "The model has 2,620,801 trainable parameters\n"
     ]
    }
   ],
   "source": [
    "def count_parameters(model):\n",
    "    return sum(p.numel() for p in model.parameters() if p.requires_grad)\n",
    "\n",
    "print(f'The model has {count_parameters(model):,} trainable parameters')"
   ]
  },
  {
   "cell_type": "code",
   "execution_count": 31,
   "metadata": {},
   "outputs": [],
   "source": [
    "import torch.optim as optim\n",
    "\n",
    "optimizer = optim.Adam(model.parameters())"
   ]
  },
  {
   "cell_type": "code",
   "execution_count": 32,
   "metadata": {},
   "outputs": [],
   "source": [
    "criterion = nn.BCEWithLogitsLoss()"
   ]
  },
  {
   "cell_type": "code",
   "execution_count": 33,
   "metadata": {},
   "outputs": [],
   "source": [
    "model = model.to(device)\n",
    "criterion = criterion.to(device)"
   ]
  },
  {
   "cell_type": "code",
   "execution_count": 34,
   "metadata": {},
   "outputs": [],
   "source": [
    "def binary_accuracy(preds, y):\n",
    "    \"\"\"\n",
    "    Returns accuracy per batch, i.e. if you get 8/10 right, this returns 0.8, NOT 8\n",
    "    \"\"\"\n",
    "\n",
    "    #round predictions to the closest integer\n",
    "    rounded_preds = torch.round(torch.sigmoid(preds))\n",
    "    correct = (rounded_preds == y).float() #convert into float for division \n",
    "    acc = correct.sum() / len(correct)\n",
    "    return acc"
   ]
  },
  {
   "cell_type": "code",
   "execution_count": 35,
   "metadata": {},
   "outputs": [],
   "source": [
    "def train(model, iterator, optimizer, criterion):\n",
    "    \n",
    "    epoch_loss = 0\n",
    "    epoch_acc = 0\n",
    "    \n",
    "    model.train()\n",
    "    \n",
    "    for batch in iterator:\n",
    "        \n",
    "        optimizer.zero_grad()\n",
    "                \n",
    "        text, text_lengths = batch.text\n",
    "        \n",
    "        predictions = model(text, text_lengths).squeeze(1)\n",
    "        \n",
    "        loss = criterion(predictions, batch.label)\n",
    "        \n",
    "        acc = binary_accuracy(predictions, batch.label)\n",
    "        \n",
    "        loss.backward()\n",
    "        \n",
    "        optimizer.step()\n",
    "        \n",
    "        epoch_loss += loss.item()\n",
    "        epoch_acc += acc.item()\n",
    "        \n",
    "    return epoch_loss / len(iterator), epoch_acc / len(iterator)"
   ]
  },
  {
   "cell_type": "code",
   "execution_count": 36,
   "metadata": {},
   "outputs": [],
   "source": [
    "def evaluate(model, iterator, criterion):\n",
    "    \n",
    "    epoch_loss = 0\n",
    "    epoch_acc = 0\n",
    "    \n",
    "    model.eval()\n",
    "    \n",
    "    with torch.no_grad():\n",
    "    \n",
    "        for batch in iterator:\n",
    "            text, text_lengths = batch.text\n",
    "        \n",
    "            predictions = model(text, text_lengths).squeeze(1)\n",
    "            \n",
    "            loss = criterion(predictions, batch.label)\n",
    "            \n",
    "            acc = binary_accuracy(predictions, batch.label)\n",
    "\n",
    "            epoch_loss += loss.item()\n",
    "            epoch_acc += acc.item()\n",
    "        \n",
    "    return epoch_loss / len(iterator), epoch_acc / len(iterator)"
   ]
  },
  {
   "cell_type": "code",
   "execution_count": 37,
   "metadata": {},
   "outputs": [],
   "source": [
    "import time\n",
    "\n",
    "def epoch_time(start_time, end_time):\n",
    "    elapsed_time = end_time - start_time\n",
    "    elapsed_mins = int(elapsed_time / 60)\n",
    "    elapsed_secs = int(elapsed_time - (elapsed_mins * 60))\n",
    "    return elapsed_mins, elapsed_secs"
   ]
  },
  {
   "cell_type": "code",
   "execution_count": 38,
   "metadata": {},
   "outputs": [
    {
     "name": "stdout",
     "output_type": "stream",
     "text": [
      "Epoch: 01 | Epoch Time: 2m 33s\n",
      "\tTrain Loss: 0.658 | Train Acc: 62.12%\n",
      "\t Val. Loss: 0.534 |  Val. Acc: 72.20%\n",
      "Epoch: 02 | Epoch Time: 2m 38s\n",
      "\tTrain Loss: 0.515 | Train Acc: 74.22%\n",
      "\t Val. Loss: 0.436 |  Val. Acc: 80.35%\n",
      "Epoch: 03 | Epoch Time: 2m 37s\n",
      "\tTrain Loss: 0.446 | Train Acc: 78.86%\n",
      "\t Val. Loss: 0.391 |  Val. Acc: 82.73%\n",
      "Epoch: 04 | Epoch Time: 2m 22s\n",
      "\tTrain Loss: 0.391 | Train Acc: 82.28%\n",
      "\t Val. Loss: 0.338 |  Val. Acc: 85.90%\n",
      "Epoch: 05 | Epoch Time: 2m 22s\n",
      "\tTrain Loss: 0.338 | Train Acc: 85.33%\n",
      "\t Val. Loss: 0.316 |  Val. Acc: 86.89%\n",
      "Epoch: 06 | Epoch Time: 2m 22s\n",
      "\tTrain Loss: 0.285 | Train Acc: 87.91%\n",
      "\t Val. Loss: 0.295 |  Val. Acc: 87.61%\n",
      "Epoch: 07 | Epoch Time: 2m 23s\n",
      "\tTrain Loss: 0.250 | Train Acc: 89.60%\n",
      "\t Val. Loss: 0.291 |  Val. Acc: 87.76%\n",
      "Epoch: 08 | Epoch Time: 2m 53s\n",
      "\tTrain Loss: 0.204 | Train Acc: 91.88%\n",
      "\t Val. Loss: 0.284 |  Val. Acc: 88.14%\n",
      "Epoch: 09 | Epoch Time: 2m 22s\n",
      "\tTrain Loss: 0.161 | Train Acc: 93.69%\n",
      "\t Val. Loss: 0.293 |  Val. Acc: 88.16%\n",
      "Epoch: 10 | Epoch Time: 2m 26s\n",
      "\tTrain Loss: 0.123 | Train Acc: 95.41%\n",
      "\t Val. Loss: 0.304 |  Val. Acc: 88.08%\n",
      "Epoch: 11 | Epoch Time: 2m 27s\n",
      "\tTrain Loss: 0.096 | Train Acc: 96.54%\n",
      "\t Val. Loss: 0.325 |  Val. Acc: 87.80%\n",
      "Epoch: 12 | Epoch Time: 2m 22s\n",
      "\tTrain Loss: 0.072 | Train Acc: 97.47%\n",
      "\t Val. Loss: 0.352 |  Val. Acc: 87.24%\n",
      "Epoch: 13 | Epoch Time: 2m 27s\n",
      "\tTrain Loss: 0.053 | Train Acc: 98.22%\n",
      "\t Val. Loss: 0.373 |  Val. Acc: 87.18%\n",
      "Epoch: 14 | Epoch Time: 2m 22s\n",
      "\tTrain Loss: 0.039 | Train Acc: 98.76%\n",
      "\t Val. Loss: 0.398 |  Val. Acc: 87.02%\n",
      "Epoch: 15 | Epoch Time: 2m 22s\n",
      "\tTrain Loss: 0.032 | Train Acc: 98.94%\n",
      "\t Val. Loss: 0.432 |  Val. Acc: 87.05%\n",
      "Epoch: 16 | Epoch Time: 2m 26s\n",
      "\tTrain Loss: 0.024 | Train Acc: 99.34%\n",
      "\t Val. Loss: 0.464 |  Val. Acc: 86.91%\n",
      "Epoch: 17 | Epoch Time: 2m 22s\n",
      "\tTrain Loss: 0.020 | Train Acc: 99.45%\n",
      "\t Val. Loss: 0.482 |  Val. Acc: 86.75%\n",
      "Epoch: 18 | Epoch Time: 2m 21s\n",
      "\tTrain Loss: 0.016 | Train Acc: 99.47%\n",
      "\t Val. Loss: 0.505 |  Val. Acc: 86.85%\n",
      "Epoch: 19 | Epoch Time: 2m 22s\n",
      "\tTrain Loss: 0.016 | Train Acc: 99.60%\n",
      "\t Val. Loss: 0.529 |  Val. Acc: 87.12%\n",
      "Epoch: 20 | Epoch Time: 2m 27s\n",
      "\tTrain Loss: 0.013 | Train Acc: 99.68%\n",
      "\t Val. Loss: 0.559 |  Val. Acc: 86.67%\n",
      "Epoch: 21 | Epoch Time: 2m 21s\n",
      "\tTrain Loss: 0.010 | Train Acc: 99.69%\n",
      "\t Val. Loss: 0.594 |  Val. Acc: 86.58%\n",
      "Epoch: 22 | Epoch Time: 2m 22s\n",
      "\tTrain Loss: 0.010 | Train Acc: 99.66%\n",
      "\t Val. Loss: 0.624 |  Val. Acc: 86.37%\n",
      "Epoch: 23 | Epoch Time: 2m 26s\n",
      "\tTrain Loss: 0.010 | Train Acc: 99.71%\n",
      "\t Val. Loss: 0.646 |  Val. Acc: 86.37%\n",
      "Epoch: 24 | Epoch Time: 2m 22s\n",
      "\tTrain Loss: 0.009 | Train Acc: 99.74%\n",
      "\t Val. Loss: 0.675 |  Val. Acc: 86.46%\n",
      "Epoch: 25 | Epoch Time: 2m 22s\n",
      "\tTrain Loss: 0.011 | Train Acc: 99.63%\n",
      "\t Val. Loss: 0.692 |  Val. Acc: 86.24%\n",
      "Epoch: 26 | Epoch Time: 2m 22s\n",
      "\tTrain Loss: 0.012 | Train Acc: 99.58%\n",
      "\t Val. Loss: 0.720 |  Val. Acc: 86.18%\n",
      "Epoch: 27 | Epoch Time: 2m 27s\n",
      "\tTrain Loss: 0.009 | Train Acc: 99.71%\n",
      "\t Val. Loss: 0.757 |  Val. Acc: 85.88%\n",
      "Epoch: 28 | Epoch Time: 2m 26s\n",
      "\tTrain Loss: 0.009 | Train Acc: 99.69%\n",
      "\t Val. Loss: 0.782 |  Val. Acc: 85.96%\n",
      "Epoch: 29 | Epoch Time: 2m 21s\n",
      "\tTrain Loss: 0.009 | Train Acc: 99.71%\n",
      "\t Val. Loss: 0.811 |  Val. Acc: 86.12%\n",
      "Epoch: 30 | Epoch Time: 2m 22s\n",
      "\tTrain Loss: 0.007 | Train Acc: 99.80%\n",
      "\t Val. Loss: 0.850 |  Val. Acc: 85.66%\n",
      "Epoch: 31 | Epoch Time: 2m 22s\n",
      "\tTrain Loss: 0.007 | Train Acc: 99.82%\n",
      "\t Val. Loss: 0.868 |  Val. Acc: 85.72%\n",
      "Epoch: 32 | Epoch Time: 2m 22s\n",
      "\tTrain Loss: 0.007 | Train Acc: 99.77%\n",
      "\t Val. Loss: 0.896 |  Val. Acc: 85.73%\n",
      "Epoch: 33 | Epoch Time: 2m 22s\n",
      "\tTrain Loss: 0.005 | Train Acc: 99.86%\n",
      "\t Val. Loss: 0.938 |  Val. Acc: 85.60%\n",
      "Epoch: 34 | Epoch Time: 2m 21s\n",
      "\tTrain Loss: 0.008 | Train Acc: 99.75%\n",
      "\t Val. Loss: 0.927 |  Val. Acc: 85.55%\n",
      "Epoch: 35 | Epoch Time: 2m 26s\n",
      "\tTrain Loss: 0.005 | Train Acc: 99.85%\n",
      "\t Val. Loss: 0.984 |  Val. Acc: 85.40%\n",
      "Epoch: 36 | Epoch Time: 2m 21s\n",
      "\tTrain Loss: 0.005 | Train Acc: 99.80%\n",
      "\t Val. Loss: 1.014 |  Val. Acc: 85.34%\n",
      "Epoch: 37 | Epoch Time: 2m 22s\n",
      "\tTrain Loss: 0.004 | Train Acc: 99.87%\n",
      "\t Val. Loss: 1.014 |  Val. Acc: 85.66%\n",
      "Epoch: 38 | Epoch Time: 2m 21s\n",
      "\tTrain Loss: 0.005 | Train Acc: 99.88%\n",
      "\t Val. Loss: 1.068 |  Val. Acc: 85.50%\n",
      "Epoch: 39 | Epoch Time: 2m 22s\n",
      "\tTrain Loss: 0.004 | Train Acc: 99.89%\n",
      "\t Val. Loss: 1.073 |  Val. Acc: 85.47%\n",
      "Epoch: 40 | Epoch Time: 2m 21s\n",
      "\tTrain Loss: 0.005 | Train Acc: 99.81%\n",
      "\t Val. Loss: 1.117 |  Val. Acc: 85.48%\n",
      "Epoch: 41 | Epoch Time: 2m 26s\n",
      "\tTrain Loss: 0.006 | Train Acc: 99.86%\n",
      "\t Val. Loss: 1.145 |  Val. Acc: 85.31%\n",
      "Epoch: 42 | Epoch Time: 2m 26s\n",
      "\tTrain Loss: 0.004 | Train Acc: 99.89%\n",
      "\t Val. Loss: 1.168 |  Val. Acc: 85.62%\n",
      "Epoch: 43 | Epoch Time: 2m 27s\n",
      "\tTrain Loss: 0.006 | Train Acc: 99.81%\n",
      "\t Val. Loss: 1.215 |  Val. Acc: 85.47%\n",
      "Epoch: 44 | Epoch Time: 2m 22s\n",
      "\tTrain Loss: 0.004 | Train Acc: 99.87%\n",
      "\t Val. Loss: 1.245 |  Val. Acc: 85.55%\n",
      "Epoch: 45 | Epoch Time: 2m 22s\n",
      "\tTrain Loss: 0.004 | Train Acc: 99.89%\n",
      "\t Val. Loss: 1.250 |  Val. Acc: 85.50%\n",
      "Epoch: 46 | Epoch Time: 2m 27s\n",
      "\tTrain Loss: 0.005 | Train Acc: 99.84%\n",
      "\t Val. Loss: 1.272 |  Val. Acc: 85.43%\n",
      "Epoch: 47 | Epoch Time: 2m 22s\n",
      "\tTrain Loss: 0.005 | Train Acc: 99.85%\n",
      "\t Val. Loss: 1.277 |  Val. Acc: 85.59%\n",
      "Epoch: 48 | Epoch Time: 2m 27s\n",
      "\tTrain Loss: 0.007 | Train Acc: 99.79%\n",
      "\t Val. Loss: 1.303 |  Val. Acc: 85.31%\n",
      "Epoch: 49 | Epoch Time: 2m 26s\n",
      "\tTrain Loss: 0.004 | Train Acc: 99.90%\n",
      "\t Val. Loss: 1.353 |  Val. Acc: 85.31%\n",
      "Epoch: 50 | Epoch Time: 2m 26s\n",
      "\tTrain Loss: 0.004 | Train Acc: 99.87%\n",
      "\t Val. Loss: 1.340 |  Val. Acc: 85.30%\n"
     ]
    }
   ],
   "source": [
    "N_EPOCHS = 50\n",
    "\n",
    "best_valid_loss = float('inf')\n",
    "\n",
    "for epoch in range(N_EPOCHS):\n",
    "\n",
    "    start_time = time.time()\n",
    "    \n",
    "    train_loss, train_acc = train(model, train_iterator, optimizer, criterion)\n",
    "    valid_loss, valid_acc = evaluate(model, valid_iterator, criterion)\n",
    "    \n",
    "    end_time = time.time()\n",
    "\n",
    "    epoch_mins, epoch_secs = epoch_time(start_time, end_time)\n",
    "    \n",
    "    if valid_loss < best_valid_loss:\n",
    "        best_valid_loss = valid_loss\n",
    "        torch.save(model.state_dict(), 'CNN-model.pt')\n",
    "    \n",
    "    print(f'Epoch: {epoch+1:02} | Epoch Time: {epoch_mins}m {epoch_secs}s')\n",
    "    print(f'\\tTrain Loss: {train_loss:.3f} | Train Acc: {train_acc*100:.2f}%')\n",
    "    print(f'\\t Val. Loss: {valid_loss:.3f} |  Val. Acc: {valid_acc*100:.2f}%')"
   ]
  },
  {
   "cell_type": "code",
   "execution_count": 39,
   "metadata": {},
   "outputs": [
    {
     "name": "stdout",
     "output_type": "stream",
     "text": [
      "Test Loss: 0.299 | Test Acc: 87.47%\n"
     ]
    }
   ],
   "source": [
    "model.load_state_dict(torch.load('CNN-model.pt'))\n",
    "\n",
    "test_loss, test_acc = evaluate(model, test_iterator, criterion)\n",
    "\n",
    "print(f'Test Loss: {test_loss:.3f} | Test Acc: {test_acc*100:.2f}%')"
   ]
  },
  {
   "cell_type": "code",
   "execution_count": null,
   "metadata": {},
   "outputs": [],
   "source": []
  }
 ],
 "metadata": {
  "kernelspec": {
   "display_name": "workspace",
   "language": "python",
   "name": "python3"
  },
  "language_info": {
   "codemirror_mode": {
    "name": "ipython",
    "version": 3
   },
   "file_extension": ".py",
   "mimetype": "text/x-python",
   "name": "python",
   "nbconvert_exporter": "python",
   "pygments_lexer": "ipython3",
   "version": "3.9.16"
  },
  "orig_nbformat": 4
 },
 "nbformat": 4,
 "nbformat_minor": 2
}
