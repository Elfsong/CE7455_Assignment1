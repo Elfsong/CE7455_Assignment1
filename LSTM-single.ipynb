{
 "cells": [
  {
   "cell_type": "code",
   "execution_count": 3,
   "metadata": {},
   "outputs": [],
   "source": [
    "import torch\n",
    "from torchtext import data\n",
    "\n",
    "SEED = 1234\n",
    "\n",
    "torch.manual_seed(SEED)\n",
    "torch.backends.cudnn.deterministic = True\n",
    "\n",
    "TEXT = data.Field(tokenize = 'spacy',\n",
    "                  tokenizer_language = 'en_core_web_sm',\n",
    "                  include_lengths = True,\n",
    "                  batch_first = True)\n",
    "LABEL = data.LabelField(dtype = torch.float)"
   ]
  },
  {
   "cell_type": "code",
   "execution_count": 4,
   "metadata": {},
   "outputs": [],
   "source": [
    "from torchtext import datasets\n",
    "\n",
    "train_data, test_data = datasets.IMDB.splits(TEXT, LABEL)"
   ]
  },
  {
   "cell_type": "code",
   "execution_count": 5,
   "metadata": {},
   "outputs": [
    {
     "name": "stdout",
     "output_type": "stream",
     "text": [
      "Number of training examples: 25000\n",
      "Number of testing examples: 25000\n"
     ]
    }
   ],
   "source": [
    "print(f'Number of training examples: {len(train_data)}')\n",
    "print(f'Number of testing examples: {len(test_data)}')"
   ]
  },
  {
   "cell_type": "code",
   "execution_count": 6,
   "metadata": {},
   "outputs": [],
   "source": [
    "import random\n",
    "\n",
    "train_data, valid_data = train_data.split(random_state = random.seed(SEED))"
   ]
  },
  {
   "cell_type": "code",
   "execution_count": 7,
   "metadata": {},
   "outputs": [
    {
     "name": "stdout",
     "output_type": "stream",
     "text": [
      "Number of training examples: 17500\n",
      "Number of validation examples: 7500\n",
      "Number of testing examples: 25000\n"
     ]
    }
   ],
   "source": [
    "print(f'Number of training examples: {len(train_data)}')\n",
    "print(f'Number of validation examples: {len(valid_data)}')\n",
    "print(f'Number of testing examples: {len(test_data)}')"
   ]
  },
  {
   "cell_type": "code",
   "execution_count": 8,
   "metadata": {},
   "outputs": [],
   "source": [
    "MAX_VOCAB_SIZE = 25_000\n",
    "\n",
    "TEXT.build_vocab(train_data, max_size = MAX_VOCAB_SIZE)\n",
    "LABEL.build_vocab(train_data)"
   ]
  },
  {
   "cell_type": "code",
   "execution_count": 9,
   "metadata": {},
   "outputs": [
    {
     "name": "stdout",
     "output_type": "stream",
     "text": [
      "Unique tokens in TEXT vocabulary: 25002\n",
      "Unique tokens in LABEL vocabulary: 2\n"
     ]
    }
   ],
   "source": [
    "print(f\"Unique tokens in TEXT vocabulary: {len(TEXT.vocab)}\")\n",
    "print(f\"Unique tokens in LABEL vocabulary: {len(LABEL.vocab)}\")"
   ]
  },
  {
   "cell_type": "code",
   "execution_count": 10,
   "metadata": {},
   "outputs": [],
   "source": [
    "BATCH_SIZE = 64\n",
    "\n",
    "device = torch.device('cuda:7' if torch.cuda.is_available() else 'cpu')\n",
    "\n",
    "train_iterator, valid_iterator, test_iterator = data.BucketIterator.splits(\n",
    "    (train_data, valid_data, test_data), \n",
    "    batch_size = BATCH_SIZE,\n",
    "    sort_within_batch = True,\n",
    "    device = device)"
   ]
  },
  {
   "cell_type": "code",
   "execution_count": 11,
   "metadata": {},
   "outputs": [],
   "source": [
    "import torch.nn as nn\n",
    "import torch.nn.functional as F\n",
    "\n",
    "class LSTM(nn.Module):\n",
    "    def __init__(self, vocab_size, embedding_dim, hidden_dim, output_dim, n_layers, bidirectional, dropout_rate, pad_index):\n",
    "        super().__init__()\n",
    "        self.embedding = nn.Embedding(vocab_size, embedding_dim, padding_idx=pad_index)\n",
    "        self.lstm = nn.LSTM(embedding_dim, hidden_dim, n_layers, bidirectional=bidirectional, dropout=dropout_rate, batch_first=True)\n",
    "        self.fc = nn.Linear(hidden_dim * 2 if bidirectional else hidden_dim, output_dim)\n",
    "        self.dropout = nn.Dropout(dropout_rate)\n",
    "        \n",
    "    def forward(self, ids, length):\n",
    "        embedded = self.dropout(self.embedding(ids))\n",
    "        packed_embedded = nn.utils.rnn.pack_padded_sequence(embedded, length.to(\"cpu\"), batch_first=True, enforce_sorted=False)\n",
    "        packed_output, (hidden, cell) = self.lstm(packed_embedded)\n",
    "\n",
    "        if self.lstm.bidirectional:\n",
    "            hidden = self.dropout(torch.cat([hidden[-1], hidden[-2]], dim=-1))\n",
    "        else:\n",
    "            hidden = self.dropout(hidden[-1])\n",
    "        prediction = self.fc(hidden)\n",
    "\n",
    "        return prediction"
   ]
  },
  {
   "cell_type": "code",
   "execution_count": 12,
   "metadata": {},
   "outputs": [],
   "source": [
    "vocab_size = len(TEXT.vocab)\n",
    "embedding_dim = 300\n",
    "hidden_dim = 300\n",
    "output_dim = 1\n",
    "n_layers = 2\n",
    "bidirectional = False\n",
    "dropout_rate = 0.6\n",
    "pad_index = TEXT.vocab.stoi[TEXT.pad_token]\n",
    "\n",
    "model = LSTM(vocab_size, embedding_dim, hidden_dim, output_dim, n_layers, bidirectional, dropout_rate, pad_index)"
   ]
  },
  {
   "cell_type": "code",
   "execution_count": 13,
   "metadata": {},
   "outputs": [
    {
     "name": "stdout",
     "output_type": "stream",
     "text": [
      "The model has 8,945,701 trainable parameters\n"
     ]
    }
   ],
   "source": [
    "def count_parameters(model):\n",
    "    return sum(p.numel() for p in model.parameters() if p.requires_grad)\n",
    "\n",
    "print(f'The model has {count_parameters(model):,} trainable parameters')"
   ]
  },
  {
   "cell_type": "code",
   "execution_count": 14,
   "metadata": {},
   "outputs": [],
   "source": [
    "import torch.optim as optim\n",
    "\n",
    "optimizer = optim.Adam(model.parameters())"
   ]
  },
  {
   "cell_type": "code",
   "execution_count": 15,
   "metadata": {},
   "outputs": [],
   "source": [
    "criterion = nn.BCEWithLogitsLoss()"
   ]
  },
  {
   "cell_type": "code",
   "execution_count": 16,
   "metadata": {},
   "outputs": [],
   "source": [
    "model = model.to(device)\n",
    "criterion = criterion.to(device)"
   ]
  },
  {
   "cell_type": "code",
   "execution_count": 17,
   "metadata": {},
   "outputs": [],
   "source": [
    "def binary_accuracy(preds, y):\n",
    "    \"\"\"\n",
    "    Returns accuracy per batch, i.e. if you get 8/10 right, this returns 0.8, NOT 8\n",
    "    \"\"\"\n",
    "\n",
    "    #round predictions to the closest integer\n",
    "    rounded_preds = torch.round(torch.sigmoid(preds))\n",
    "    correct = (rounded_preds == y).float() #convert into float for division \n",
    "    acc = correct.sum() / len(correct)\n",
    "    return acc"
   ]
  },
  {
   "cell_type": "code",
   "execution_count": 18,
   "metadata": {},
   "outputs": [],
   "source": [
    "def train(model, iterator, optimizer, criterion):\n",
    "    \n",
    "    epoch_loss = 0\n",
    "    epoch_acc = 0\n",
    "    \n",
    "    model.train()\n",
    "    \n",
    "    for batch in iterator:\n",
    "        \n",
    "        optimizer.zero_grad()\n",
    "                \n",
    "        text, text_lengths = batch.text\n",
    "        \n",
    "        predictions = model(text, text_lengths).squeeze(1)\n",
    "        \n",
    "        loss = criterion(predictions, batch.label)\n",
    "        \n",
    "        acc = binary_accuracy(predictions, batch.label)\n",
    "        \n",
    "        loss.backward()\n",
    "        \n",
    "        optimizer.step()\n",
    "        \n",
    "        epoch_loss += loss.item()\n",
    "        epoch_acc += acc.item()\n",
    "        \n",
    "    return epoch_loss / len(iterator), epoch_acc / len(iterator)"
   ]
  },
  {
   "cell_type": "code",
   "execution_count": 19,
   "metadata": {},
   "outputs": [],
   "source": [
    "def evaluate(model, iterator, criterion):\n",
    "    \n",
    "    epoch_loss = 0\n",
    "    epoch_acc = 0\n",
    "    \n",
    "    model.eval()\n",
    "    \n",
    "    with torch.no_grad():\n",
    "    \n",
    "        for batch in iterator:\n",
    "            text, text_lengths = batch.text\n",
    "        \n",
    "            predictions = model(text, text_lengths).squeeze(1)\n",
    "            \n",
    "            loss = criterion(predictions, batch.label)\n",
    "            \n",
    "            acc = binary_accuracy(predictions, batch.label)\n",
    "\n",
    "            epoch_loss += loss.item()\n",
    "            epoch_acc += acc.item()\n",
    "        \n",
    "    return epoch_loss / len(iterator), epoch_acc / len(iterator)"
   ]
  },
  {
   "cell_type": "code",
   "execution_count": 20,
   "metadata": {},
   "outputs": [],
   "source": [
    "import time\n",
    "\n",
    "def epoch_time(start_time, end_time):\n",
    "    elapsed_time = end_time - start_time\n",
    "    elapsed_mins = int(elapsed_time / 60)\n",
    "    elapsed_secs = int(elapsed_time - (elapsed_mins * 60))\n",
    "    return elapsed_mins, elapsed_secs"
   ]
  },
  {
   "cell_type": "code",
   "execution_count": 21,
   "metadata": {},
   "outputs": [
    {
     "name": "stdout",
     "output_type": "stream",
     "text": [
      "Epoch: 01 | Epoch Time: 0m 14s\n",
      "\tTrain Loss: 0.651 | Train Acc: 61.32%\n",
      "\t Val. Loss: 0.604 |  Val. Acc: 70.32%\n",
      "Epoch: 02 | Epoch Time: 0m 14s\n",
      "\tTrain Loss: 0.575 | Train Acc: 70.58%\n",
      "\t Val. Loss: 0.691 |  Val. Acc: 49.77%\n",
      "Epoch: 03 | Epoch Time: 0m 15s\n",
      "\tTrain Loss: 0.546 | Train Acc: 72.24%\n",
      "\t Val. Loss: 0.425 |  Val. Acc: 81.97%\n",
      "Epoch: 04 | Epoch Time: 0m 14s\n",
      "\tTrain Loss: 0.393 | Train Acc: 82.93%\n",
      "\t Val. Loss: 0.399 |  Val. Acc: 81.77%\n",
      "Epoch: 05 | Epoch Time: 0m 14s\n",
      "\tTrain Loss: 0.312 | Train Acc: 87.06%\n",
      "\t Val. Loss: 0.312 |  Val. Acc: 87.56%\n",
      "Epoch: 06 | Epoch Time: 0m 14s\n",
      "\tTrain Loss: 0.260 | Train Acc: 89.55%\n",
      "\t Val. Loss: 0.293 |  Val. Acc: 88.53%\n",
      "Epoch: 07 | Epoch Time: 0m 14s\n",
      "\tTrain Loss: 0.237 | Train Acc: 90.52%\n",
      "\t Val. Loss: 0.289 |  Val. Acc: 88.63%\n",
      "Epoch: 08 | Epoch Time: 0m 14s\n",
      "\tTrain Loss: 0.195 | Train Acc: 92.67%\n",
      "\t Val. Loss: 0.321 |  Val. Acc: 88.89%\n",
      "Epoch: 09 | Epoch Time: 0m 14s\n",
      "\tTrain Loss: 0.174 | Train Acc: 93.39%\n",
      "\t Val. Loss: 0.284 |  Val. Acc: 89.51%\n",
      "Epoch: 10 | Epoch Time: 0m 14s\n",
      "\tTrain Loss: 0.156 | Train Acc: 94.09%\n",
      "\t Val. Loss: 0.292 |  Val. Acc: 89.44%\n",
      "Epoch: 11 | Epoch Time: 0m 14s\n",
      "\tTrain Loss: 0.134 | Train Acc: 95.15%\n",
      "\t Val. Loss: 0.341 |  Val. Acc: 89.68%\n",
      "Epoch: 12 | Epoch Time: 0m 15s\n",
      "\tTrain Loss: 0.119 | Train Acc: 95.53%\n",
      "\t Val. Loss: 0.314 |  Val. Acc: 90.17%\n",
      "Epoch: 13 | Epoch Time: 0m 14s\n",
      "\tTrain Loss: 0.103 | Train Acc: 96.19%\n",
      "\t Val. Loss: 0.387 |  Val. Acc: 89.55%\n",
      "Epoch: 14 | Epoch Time: 0m 14s\n",
      "\tTrain Loss: 0.098 | Train Acc: 96.42%\n",
      "\t Val. Loss: 0.389 |  Val. Acc: 89.34%\n",
      "Epoch: 15 | Epoch Time: 0m 15s\n",
      "\tTrain Loss: 0.084 | Train Acc: 96.98%\n",
      "\t Val. Loss: 0.399 |  Val. Acc: 89.12%\n",
      "Epoch: 16 | Epoch Time: 0m 14s\n",
      "\tTrain Loss: 0.078 | Train Acc: 97.18%\n",
      "\t Val. Loss: 0.344 |  Val. Acc: 89.59%\n",
      "Epoch: 17 | Epoch Time: 0m 14s\n",
      "\tTrain Loss: 0.073 | Train Acc: 97.49%\n",
      "\t Val. Loss: 0.521 |  Val. Acc: 89.06%\n",
      "Epoch: 18 | Epoch Time: 0m 14s\n",
      "\tTrain Loss: 0.066 | Train Acc: 97.83%\n",
      "\t Val. Loss: 0.384 |  Val. Acc: 89.42%\n",
      "Epoch: 19 | Epoch Time: 0m 14s\n",
      "\tTrain Loss: 0.058 | Train Acc: 98.05%\n",
      "\t Val. Loss: 0.448 |  Val. Acc: 89.50%\n",
      "Epoch: 20 | Epoch Time: 0m 14s\n",
      "\tTrain Loss: 0.056 | Train Acc: 98.08%\n",
      "\t Val. Loss: 0.398 |  Val. Acc: 89.75%\n",
      "Epoch: 21 | Epoch Time: 0m 14s\n",
      "\tTrain Loss: 0.050 | Train Acc: 98.31%\n",
      "\t Val. Loss: 0.392 |  Val. Acc: 89.48%\n",
      "Epoch: 22 | Epoch Time: 0m 13s\n",
      "\tTrain Loss: 0.047 | Train Acc: 98.40%\n",
      "\t Val. Loss: 0.449 |  Val. Acc: 89.69%\n",
      "Epoch: 23 | Epoch Time: 0m 8s\n",
      "\tTrain Loss: 0.045 | Train Acc: 98.49%\n",
      "\t Val. Loss: 0.418 |  Val. Acc: 89.69%\n",
      "Epoch: 24 | Epoch Time: 0m 8s\n",
      "\tTrain Loss: 0.042 | Train Acc: 98.60%\n",
      "\t Val. Loss: 0.399 |  Val. Acc: 89.59%\n",
      "Epoch: 25 | Epoch Time: 0m 8s\n",
      "\tTrain Loss: 0.042 | Train Acc: 98.67%\n",
      "\t Val. Loss: 0.481 |  Val. Acc: 89.67%\n",
      "Epoch: 26 | Epoch Time: 0m 9s\n",
      "\tTrain Loss: 0.040 | Train Acc: 98.70%\n",
      "\t Val. Loss: 0.451 |  Val. Acc: 89.95%\n",
      "Epoch: 27 | Epoch Time: 0m 8s\n",
      "\tTrain Loss: 0.030 | Train Acc: 98.99%\n",
      "\t Val. Loss: 0.566 |  Val. Acc: 89.68%\n",
      "Epoch: 28 | Epoch Time: 0m 8s\n",
      "\tTrain Loss: 0.034 | Train Acc: 98.88%\n",
      "\t Val. Loss: 0.467 |  Val. Acc: 89.56%\n",
      "Epoch: 29 | Epoch Time: 0m 8s\n",
      "\tTrain Loss: 0.031 | Train Acc: 99.00%\n",
      "\t Val. Loss: 0.600 |  Val. Acc: 89.27%\n",
      "Epoch: 30 | Epoch Time: 0m 8s\n",
      "\tTrain Loss: 0.030 | Train Acc: 99.02%\n",
      "\t Val. Loss: 0.480 |  Val. Acc: 89.71%\n",
      "Epoch: 31 | Epoch Time: 0m 8s\n",
      "\tTrain Loss: 0.028 | Train Acc: 99.03%\n",
      "\t Val. Loss: 0.513 |  Val. Acc: 89.07%\n",
      "Epoch: 32 | Epoch Time: 0m 8s\n",
      "\tTrain Loss: 0.029 | Train Acc: 99.04%\n",
      "\t Val. Loss: 0.574 |  Val. Acc: 89.27%\n",
      "Epoch: 33 | Epoch Time: 0m 8s\n",
      "\tTrain Loss: 0.025 | Train Acc: 99.17%\n",
      "\t Val. Loss: 0.562 |  Val. Acc: 89.87%\n",
      "Epoch: 34 | Epoch Time: 0m 8s\n",
      "\tTrain Loss: 0.025 | Train Acc: 99.20%\n",
      "\t Val. Loss: 0.595 |  Val. Acc: 88.87%\n",
      "Epoch: 35 | Epoch Time: 0m 8s\n",
      "\tTrain Loss: 0.022 | Train Acc: 99.23%\n",
      "\t Val. Loss: 0.545 |  Val. Acc: 89.75%\n",
      "Epoch: 36 | Epoch Time: 0m 8s\n",
      "\tTrain Loss: 0.022 | Train Acc: 99.27%\n",
      "\t Val. Loss: 0.520 |  Val. Acc: 89.61%\n",
      "Epoch: 37 | Epoch Time: 0m 8s\n",
      "\tTrain Loss: 0.018 | Train Acc: 99.38%\n",
      "\t Val. Loss: 0.599 |  Val. Acc: 89.81%\n",
      "Epoch: 38 | Epoch Time: 0m 8s\n",
      "\tTrain Loss: 0.023 | Train Acc: 99.16%\n",
      "\t Val. Loss: 0.665 |  Val. Acc: 88.73%\n",
      "Epoch: 39 | Epoch Time: 0m 8s\n",
      "\tTrain Loss: 0.034 | Train Acc: 98.80%\n",
      "\t Val. Loss: 0.565 |  Val. Acc: 89.83%\n",
      "Epoch: 40 | Epoch Time: 0m 8s\n",
      "\tTrain Loss: 0.018 | Train Acc: 99.38%\n",
      "\t Val. Loss: 0.610 |  Val. Acc: 89.52%\n",
      "Epoch: 41 | Epoch Time: 0m 8s\n",
      "\tTrain Loss: 0.016 | Train Acc: 99.50%\n",
      "\t Val. Loss: 0.575 |  Val. Acc: 89.77%\n",
      "Epoch: 42 | Epoch Time: 0m 8s\n",
      "\tTrain Loss: 0.021 | Train Acc: 99.35%\n",
      "\t Val. Loss: 0.504 |  Val. Acc: 89.55%\n",
      "Epoch: 43 | Epoch Time: 0m 8s\n",
      "\tTrain Loss: 0.015 | Train Acc: 99.50%\n",
      "\t Val. Loss: 0.644 |  Val. Acc: 89.77%\n",
      "Epoch: 44 | Epoch Time: 0m 8s\n",
      "\tTrain Loss: 0.017 | Train Acc: 99.47%\n",
      "\t Val. Loss: 0.529 |  Val. Acc: 89.63%\n",
      "Epoch: 45 | Epoch Time: 0m 8s\n",
      "\tTrain Loss: 0.017 | Train Acc: 99.41%\n",
      "\t Val. Loss: 0.614 |  Val. Acc: 89.50%\n",
      "Epoch: 46 | Epoch Time: 0m 8s\n",
      "\tTrain Loss: 0.012 | Train Acc: 99.62%\n",
      "\t Val. Loss: 0.610 |  Val. Acc: 89.53%\n",
      "Epoch: 47 | Epoch Time: 0m 9s\n",
      "\tTrain Loss: 0.029 | Train Acc: 99.14%\n",
      "\t Val. Loss: 0.528 |  Val. Acc: 89.63%\n",
      "Epoch: 48 | Epoch Time: 0m 8s\n",
      "\tTrain Loss: 0.015 | Train Acc: 99.47%\n",
      "\t Val. Loss: 0.661 |  Val. Acc: 89.31%\n",
      "Epoch: 49 | Epoch Time: 0m 8s\n",
      "\tTrain Loss: 0.014 | Train Acc: 99.52%\n",
      "\t Val. Loss: 0.567 |  Val. Acc: 89.68%\n",
      "Epoch: 50 | Epoch Time: 0m 8s\n",
      "\tTrain Loss: 0.015 | Train Acc: 99.52%\n",
      "\t Val. Loss: 0.632 |  Val. Acc: 89.75%\n"
     ]
    }
   ],
   "source": [
    "N_EPOCHS = 50\n",
    "\n",
    "best_valid_loss = float('inf')\n",
    "\n",
    "for epoch in range(N_EPOCHS):\n",
    "\n",
    "    start_time = time.time()\n",
    "    \n",
    "    train_loss, train_acc = train(model, train_iterator, optimizer, criterion)\n",
    "    valid_loss, valid_acc = evaluate(model, valid_iterator, criterion)\n",
    "    \n",
    "    end_time = time.time()\n",
    "\n",
    "    epoch_mins, epoch_secs = epoch_time(start_time, end_time)\n",
    "    \n",
    "    if valid_loss < best_valid_loss:\n",
    "        best_valid_loss = valid_loss\n",
    "        torch.save(model.state_dict(), 'LSTM-single-model.pt')\n",
    "    \n",
    "    print(f'Epoch: {epoch+1:02} | Epoch Time: {epoch_mins}m {epoch_secs}s')\n",
    "    print(f'\\tTrain Loss: {train_loss:.3f} | Train Acc: {train_acc*100:.2f}%')\n",
    "    print(f'\\t Val. Loss: {valid_loss:.3f} |  Val. Acc: {valid_acc*100:.2f}%')"
   ]
  },
  {
   "cell_type": "code",
   "execution_count": 22,
   "metadata": {},
   "outputs": [
    {
     "name": "stdout",
     "output_type": "stream",
     "text": [
      "Test Loss: 0.301 | Test Acc: 88.83%\n"
     ]
    }
   ],
   "source": [
    "model.load_state_dict(torch.load('LSTM-single-model.pt'))\n",
    "\n",
    "test_loss, test_acc = evaluate(model, test_iterator, criterion)\n",
    "\n",
    "print(f'Test Loss: {test_loss:.3f} | Test Acc: {test_acc*100:.2f}%')"
   ]
  },
  {
   "cell_type": "code",
   "execution_count": null,
   "metadata": {},
   "outputs": [],
   "source": []
  },
  {
   "cell_type": "code",
   "execution_count": null,
   "metadata": {},
   "outputs": [],
   "source": []
  }
 ],
 "metadata": {
  "kernelspec": {
   "display_name": "workspace",
   "language": "python",
   "name": "python3"
  },
  "language_info": {
   "codemirror_mode": {
    "name": "ipython",
    "version": 3
   },
   "file_extension": ".py",
   "mimetype": "text/x-python",
   "name": "python",
   "nbconvert_exporter": "python",
   "pygments_lexer": "ipython3",
   "version": "3.9.16"
  },
  "orig_nbformat": 4
 },
 "nbformat": 4,
 "nbformat_minor": 2
}
