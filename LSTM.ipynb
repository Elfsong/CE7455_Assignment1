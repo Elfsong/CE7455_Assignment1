{
 "cells": [
  {
   "cell_type": "code",
   "execution_count": 1,
   "metadata": {},
   "outputs": [],
   "source": [
    "import torch\n",
    "from torchtext import data\n",
    "\n",
    "SEED = 1234\n",
    "\n",
    "torch.manual_seed(SEED)\n",
    "torch.backends.cudnn.deterministic = True\n",
    "\n",
    "TEXT = data.Field(tokenize = 'spacy',\n",
    "                  tokenizer_language = 'en_core_web_sm',\n",
    "                  include_lengths = True,\n",
    "                  batch_first = True)\n",
    "LABEL = data.LabelField(dtype = torch.float)"
   ]
  },
  {
   "cell_type": "code",
   "execution_count": 2,
   "metadata": {},
   "outputs": [],
   "source": [
    "from torchtext import datasets\n",
    "\n",
    "train_data, test_data = datasets.IMDB.splits(TEXT, LABEL)"
   ]
  },
  {
   "cell_type": "code",
   "execution_count": 3,
   "metadata": {},
   "outputs": [
    {
     "name": "stdout",
     "output_type": "stream",
     "text": [
      "Number of training examples: 25000\n",
      "Number of testing examples: 25000\n"
     ]
    }
   ],
   "source": [
    "print(f'Number of training examples: {len(train_data)}')\n",
    "print(f'Number of testing examples: {len(test_data)}')"
   ]
  },
  {
   "cell_type": "code",
   "execution_count": 4,
   "metadata": {},
   "outputs": [],
   "source": [
    "import random\n",
    "\n",
    "train_data, valid_data = train_data.split(random_state = random.seed(SEED))"
   ]
  },
  {
   "cell_type": "code",
   "execution_count": 5,
   "metadata": {},
   "outputs": [
    {
     "name": "stdout",
     "output_type": "stream",
     "text": [
      "Number of training examples: 17500\n",
      "Number of validation examples: 7500\n",
      "Number of testing examples: 25000\n"
     ]
    }
   ],
   "source": [
    "print(f'Number of training examples: {len(train_data)}')\n",
    "print(f'Number of validation examples: {len(valid_data)}')\n",
    "print(f'Number of testing examples: {len(test_data)}')"
   ]
  },
  {
   "cell_type": "code",
   "execution_count": 6,
   "metadata": {},
   "outputs": [],
   "source": [
    "MAX_VOCAB_SIZE = 25_000\n",
    "\n",
    "TEXT.build_vocab(train_data, max_size = MAX_VOCAB_SIZE)\n",
    "LABEL.build_vocab(train_data)"
   ]
  },
  {
   "cell_type": "code",
   "execution_count": 7,
   "metadata": {},
   "outputs": [
    {
     "name": "stdout",
     "output_type": "stream",
     "text": [
      "Unique tokens in TEXT vocabulary: 25002\n",
      "Unique tokens in LABEL vocabulary: 2\n"
     ]
    }
   ],
   "source": [
    "print(f\"Unique tokens in TEXT vocabulary: {len(TEXT.vocab)}\")\n",
    "print(f\"Unique tokens in LABEL vocabulary: {len(LABEL.vocab)}\")"
   ]
  },
  {
   "cell_type": "code",
   "execution_count": 8,
   "metadata": {},
   "outputs": [],
   "source": [
    "BATCH_SIZE = 64\n",
    "\n",
    "device = torch.device('cuda:7' if torch.cuda.is_available() else 'cpu')\n",
    "\n",
    "train_iterator, valid_iterator, test_iterator = data.BucketIterator.splits(\n",
    "    (train_data, valid_data, test_data), \n",
    "    batch_size = BATCH_SIZE,\n",
    "    sort_within_batch = True,\n",
    "    device = device)"
   ]
  },
  {
   "cell_type": "code",
   "execution_count": 9,
   "metadata": {},
   "outputs": [],
   "source": [
    "import torch.nn as nn\n",
    "import torch.nn.functional as F\n",
    "\n",
    "class LSTM(nn.Module):\n",
    "    def __init__(self, vocab_size, embedding_dim, hidden_dim, output_dim, n_layers, bidirectional, dropout_rate, pad_index):\n",
    "        super().__init__()\n",
    "        self.embedding = nn.Embedding(vocab_size, embedding_dim, padding_idx=pad_index)\n",
    "        self.lstm = nn.LSTM(embedding_dim, hidden_dim, n_layers, bidirectional=bidirectional, dropout=dropout_rate, batch_first=True)\n",
    "        self.fc = nn.Linear(hidden_dim * 2 if bidirectional else hidden_dim, output_dim)\n",
    "        self.dropout = nn.Dropout(dropout_rate)\n",
    "        \n",
    "    def forward(self, ids, length):\n",
    "        embedded = self.dropout(self.embedding(ids))\n",
    "        packed_embedded = nn.utils.rnn.pack_padded_sequence(embedded, length.to(\"cpu\"), batch_first=True, enforce_sorted=False)\n",
    "        packed_output, (hidden, cell) = self.lstm(packed_embedded)\n",
    "\n",
    "        if self.lstm.bidirectional:\n",
    "            hidden = self.dropout(torch.cat([hidden[-1], hidden[-2]], dim=-1))\n",
    "        else:\n",
    "            hidden = self.dropout(hidden[-1])\n",
    "        prediction = self.fc(hidden)\n",
    "\n",
    "        return prediction"
   ]
  },
  {
   "cell_type": "code",
   "execution_count": 10,
   "metadata": {},
   "outputs": [],
   "source": [
    "vocab_size = len(TEXT.vocab)\n",
    "embedding_dim = 300\n",
    "hidden_dim = 300\n",
    "output_dim = 1\n",
    "n_layers = 2\n",
    "bidirectional = True\n",
    "dropout_rate = 0.6\n",
    "pad_index = TEXT.vocab.stoi[TEXT.pad_token]\n",
    "\n",
    "model = LSTM(vocab_size, embedding_dim, hidden_dim, output_dim, n_layers, bidirectional, dropout_rate, pad_index)"
   ]
  },
  {
   "cell_type": "code",
   "execution_count": 11,
   "metadata": {},
   "outputs": [
    {
     "name": "stdout",
     "output_type": "stream",
     "text": [
      "The model has 11,110,801 trainable parameters\n"
     ]
    }
   ],
   "source": [
    "def count_parameters(model):\n",
    "    return sum(p.numel() for p in model.parameters() if p.requires_grad)\n",
    "\n",
    "print(f'The model has {count_parameters(model):,} trainable parameters')"
   ]
  },
  {
   "cell_type": "code",
   "execution_count": 12,
   "metadata": {},
   "outputs": [],
   "source": [
    "import torch.optim as optim\n",
    "\n",
    "optimizer = optim.Adam(model.parameters())"
   ]
  },
  {
   "cell_type": "code",
   "execution_count": 13,
   "metadata": {},
   "outputs": [],
   "source": [
    "criterion = nn.BCEWithLogitsLoss()"
   ]
  },
  {
   "cell_type": "code",
   "execution_count": 14,
   "metadata": {},
   "outputs": [],
   "source": [
    "model = model.to(device)\n",
    "criterion = criterion.to(device)"
   ]
  },
  {
   "cell_type": "code",
   "execution_count": 15,
   "metadata": {},
   "outputs": [],
   "source": [
    "def binary_accuracy(preds, y):\n",
    "    \"\"\"\n",
    "    Returns accuracy per batch, i.e. if you get 8/10 right, this returns 0.8, NOT 8\n",
    "    \"\"\"\n",
    "\n",
    "    #round predictions to the closest integer\n",
    "    rounded_preds = torch.round(torch.sigmoid(preds))\n",
    "    correct = (rounded_preds == y).float() #convert into float for division \n",
    "    acc = correct.sum() / len(correct)\n",
    "    return acc"
   ]
  },
  {
   "cell_type": "code",
   "execution_count": 16,
   "metadata": {},
   "outputs": [],
   "source": [
    "def train(model, iterator, optimizer, criterion):\n",
    "    \n",
    "    epoch_loss = 0\n",
    "    epoch_acc = 0\n",
    "    \n",
    "    model.train()\n",
    "    \n",
    "    for batch in iterator:\n",
    "        \n",
    "        optimizer.zero_grad()\n",
    "                \n",
    "        text, text_lengths = batch.text\n",
    "        \n",
    "        predictions = model(text, text_lengths).squeeze(1)\n",
    "        \n",
    "        loss = criterion(predictions, batch.label)\n",
    "        \n",
    "        acc = binary_accuracy(predictions, batch.label)\n",
    "        \n",
    "        loss.backward()\n",
    "        \n",
    "        optimizer.step()\n",
    "        \n",
    "        epoch_loss += loss.item()\n",
    "        epoch_acc += acc.item()\n",
    "        \n",
    "    return epoch_loss / len(iterator), epoch_acc / len(iterator)"
   ]
  },
  {
   "cell_type": "code",
   "execution_count": 17,
   "metadata": {},
   "outputs": [],
   "source": [
    "def evaluate(model, iterator, criterion):\n",
    "    \n",
    "    epoch_loss = 0\n",
    "    epoch_acc = 0\n",
    "    \n",
    "    model.eval()\n",
    "    \n",
    "    with torch.no_grad():\n",
    "    \n",
    "        for batch in iterator:\n",
    "            text, text_lengths = batch.text\n",
    "        \n",
    "            predictions = model(text, text_lengths).squeeze(1)\n",
    "            \n",
    "            loss = criterion(predictions, batch.label)\n",
    "            \n",
    "            acc = binary_accuracy(predictions, batch.label)\n",
    "\n",
    "            epoch_loss += loss.item()\n",
    "            epoch_acc += acc.item()\n",
    "        \n",
    "    return epoch_loss / len(iterator), epoch_acc / len(iterator)"
   ]
  },
  {
   "cell_type": "code",
   "execution_count": 18,
   "metadata": {},
   "outputs": [],
   "source": [
    "import time\n",
    "\n",
    "def epoch_time(start_time, end_time):\n",
    "    elapsed_time = end_time - start_time\n",
    "    elapsed_mins = int(elapsed_time / 60)\n",
    "    elapsed_secs = int(elapsed_time - (elapsed_mins * 60))\n",
    "    return elapsed_mins, elapsed_secs"
   ]
  },
  {
   "cell_type": "code",
   "execution_count": 19,
   "metadata": {},
   "outputs": [
    {
     "name": "stdout",
     "output_type": "stream",
     "text": [
      "Epoch: 01 | Epoch Time: 0m 15s\n",
      "\tTrain Loss: 0.666 | Train Acc: 59.75%\n",
      "\t Val. Loss: 0.626 |  Val. Acc: 65.91%\n",
      "Epoch: 02 | Epoch Time: 0m 16s\n",
      "\tTrain Loss: 0.573 | Train Acc: 69.74%\n",
      "\t Val. Loss: 0.709 |  Val. Acc: 65.26%\n",
      "Epoch: 03 | Epoch Time: 0m 15s\n",
      "\tTrain Loss: 0.452 | Train Acc: 79.12%\n",
      "\t Val. Loss: 0.376 |  Val. Acc: 83.44%\n",
      "Epoch: 04 | Epoch Time: 0m 15s\n",
      "\tTrain Loss: 0.384 | Train Acc: 82.97%\n",
      "\t Val. Loss: 0.474 |  Val. Acc: 77.89%\n",
      "Epoch: 05 | Epoch Time: 0m 15s\n",
      "\tTrain Loss: 0.342 | Train Acc: 85.22%\n",
      "\t Val. Loss: 0.322 |  Val. Acc: 86.41%\n",
      "Epoch: 06 | Epoch Time: 0m 15s\n",
      "\tTrain Loss: 0.276 | Train Acc: 88.56%\n",
      "\t Val. Loss: 0.311 |  Val. Acc: 87.93%\n",
      "Epoch: 07 | Epoch Time: 0m 15s\n",
      "\tTrain Loss: 0.235 | Train Acc: 90.61%\n",
      "\t Val. Loss: 0.306 |  Val. Acc: 88.37%\n",
      "Epoch: 08 | Epoch Time: 0m 15s\n",
      "\tTrain Loss: 0.210 | Train Acc: 91.72%\n",
      "\t Val. Loss: 0.310 |  Val. Acc: 88.93%\n",
      "Epoch: 09 | Epoch Time: 0m 15s\n",
      "\tTrain Loss: 0.176 | Train Acc: 93.34%\n",
      "\t Val. Loss: 0.307 |  Val. Acc: 89.15%\n",
      "Epoch: 10 | Epoch Time: 0m 15s\n",
      "\tTrain Loss: 0.151 | Train Acc: 94.23%\n",
      "\t Val. Loss: 0.319 |  Val. Acc: 88.83%\n",
      "Epoch: 11 | Epoch Time: 0m 15s\n",
      "\tTrain Loss: 0.135 | Train Acc: 94.97%\n",
      "\t Val. Loss: 0.384 |  Val. Acc: 88.97%\n",
      "Epoch: 12 | Epoch Time: 0m 15s\n",
      "\tTrain Loss: 0.117 | Train Acc: 95.62%\n",
      "\t Val. Loss: 0.342 |  Val. Acc: 89.26%\n",
      "Epoch: 13 | Epoch Time: 0m 15s\n",
      "\tTrain Loss: 0.097 | Train Acc: 96.54%\n",
      "\t Val. Loss: 0.350 |  Val. Acc: 89.50%\n",
      "Epoch: 14 | Epoch Time: 0m 15s\n",
      "\tTrain Loss: 0.088 | Train Acc: 96.73%\n",
      "\t Val. Loss: 0.393 |  Val. Acc: 89.40%\n",
      "Epoch: 15 | Epoch Time: 0m 15s\n",
      "\tTrain Loss: 0.080 | Train Acc: 97.22%\n",
      "\t Val. Loss: 0.353 |  Val. Acc: 89.57%\n",
      "Epoch: 16 | Epoch Time: 0m 15s\n",
      "\tTrain Loss: 0.070 | Train Acc: 97.41%\n",
      "\t Val. Loss: 0.420 |  Val. Acc: 89.53%\n",
      "Epoch: 17 | Epoch Time: 0m 15s\n",
      "\tTrain Loss: 0.066 | Train Acc: 97.60%\n",
      "\t Val. Loss: 0.412 |  Val. Acc: 89.33%\n",
      "Epoch: 18 | Epoch Time: 0m 15s\n",
      "\tTrain Loss: 0.061 | Train Acc: 97.77%\n",
      "\t Val. Loss: 0.434 |  Val. Acc: 89.38%\n",
      "Epoch: 19 | Epoch Time: 0m 15s\n",
      "\tTrain Loss: 0.055 | Train Acc: 98.10%\n",
      "\t Val. Loss: 0.426 |  Val. Acc: 89.60%\n",
      "Epoch: 20 | Epoch Time: 0m 15s\n",
      "\tTrain Loss: 0.046 | Train Acc: 98.38%\n",
      "\t Val. Loss: 0.456 |  Val. Acc: 89.71%\n",
      "Epoch: 21 | Epoch Time: 0m 15s\n",
      "\tTrain Loss: 0.046 | Train Acc: 98.32%\n",
      "\t Val. Loss: 0.439 |  Val. Acc: 89.59%\n",
      "Epoch: 22 | Epoch Time: 0m 15s\n",
      "\tTrain Loss: 0.036 | Train Acc: 98.71%\n",
      "\t Val. Loss: 0.497 |  Val. Acc: 89.68%\n",
      "Epoch: 23 | Epoch Time: 0m 15s\n",
      "\tTrain Loss: 0.038 | Train Acc: 98.59%\n",
      "\t Val. Loss: 0.486 |  Val. Acc: 89.83%\n",
      "Epoch: 24 | Epoch Time: 0m 15s\n",
      "\tTrain Loss: 0.031 | Train Acc: 98.88%\n",
      "\t Val. Loss: 0.493 |  Val. Acc: 89.48%\n",
      "Epoch: 25 | Epoch Time: 0m 15s\n",
      "\tTrain Loss: 0.028 | Train Acc: 99.09%\n",
      "\t Val. Loss: 0.507 |  Val. Acc: 89.19%\n",
      "Epoch: 26 | Epoch Time: 0m 15s\n",
      "\tTrain Loss: 0.032 | Train Acc: 98.80%\n",
      "\t Val. Loss: 0.540 |  Val. Acc: 89.83%\n",
      "Epoch: 27 | Epoch Time: 0m 15s\n",
      "\tTrain Loss: 0.027 | Train Acc: 99.04%\n",
      "\t Val. Loss: 0.523 |  Val. Acc: 89.80%\n",
      "Epoch: 28 | Epoch Time: 0m 15s\n",
      "\tTrain Loss: 0.023 | Train Acc: 99.23%\n",
      "\t Val. Loss: 0.549 |  Val. Acc: 89.88%\n",
      "Epoch: 29 | Epoch Time: 0m 15s\n",
      "\tTrain Loss: 0.030 | Train Acc: 98.93%\n",
      "\t Val. Loss: 0.576 |  Val. Acc: 89.92%\n",
      "Epoch: 30 | Epoch Time: 0m 15s\n",
      "\tTrain Loss: 0.026 | Train Acc: 99.12%\n",
      "\t Val. Loss: 0.541 |  Val. Acc: 89.97%\n",
      "Epoch: 31 | Epoch Time: 0m 15s\n",
      "\tTrain Loss: 0.022 | Train Acc: 99.26%\n",
      "\t Val. Loss: 0.552 |  Val. Acc: 89.87%\n",
      "Epoch: 32 | Epoch Time: 0m 15s\n",
      "\tTrain Loss: 0.023 | Train Acc: 99.18%\n",
      "\t Val. Loss: 0.581 |  Val. Acc: 89.21%\n",
      "Epoch: 33 | Epoch Time: 0m 15s\n",
      "\tTrain Loss: 0.025 | Train Acc: 99.17%\n",
      "\t Val. Loss: 0.529 |  Val. Acc: 89.91%\n",
      "Epoch: 34 | Epoch Time: 0m 15s\n",
      "\tTrain Loss: 0.019 | Train Acc: 99.40%\n",
      "\t Val. Loss: 0.565 |  Val. Acc: 90.14%\n",
      "Epoch: 35 | Epoch Time: 0m 15s\n",
      "\tTrain Loss: 0.017 | Train Acc: 99.36%\n",
      "\t Val. Loss: 0.609 |  Val. Acc: 89.89%\n",
      "Epoch: 36 | Epoch Time: 0m 18s\n",
      "\tTrain Loss: 0.018 | Train Acc: 99.38%\n",
      "\t Val. Loss: 0.572 |  Val. Acc: 90.02%\n",
      "Epoch: 37 | Epoch Time: 0m 20s\n",
      "\tTrain Loss: 0.017 | Train Acc: 99.40%\n",
      "\t Val. Loss: 0.591 |  Val. Acc: 89.75%\n",
      "Epoch: 38 | Epoch Time: 0m 21s\n",
      "\tTrain Loss: 0.016 | Train Acc: 99.45%\n",
      "\t Val. Loss: 0.605 |  Val. Acc: 89.73%\n",
      "Epoch: 39 | Epoch Time: 0m 21s\n",
      "\tTrain Loss: 0.022 | Train Acc: 99.18%\n",
      "\t Val. Loss: 0.594 |  Val. Acc: 89.96%\n",
      "Epoch: 40 | Epoch Time: 0m 21s\n",
      "\tTrain Loss: 0.017 | Train Acc: 99.40%\n",
      "\t Val. Loss: 0.651 |  Val. Acc: 88.82%\n",
      "Epoch: 41 | Epoch Time: 0m 21s\n",
      "\tTrain Loss: 0.016 | Train Acc: 99.43%\n",
      "\t Val. Loss: 0.680 |  Val. Acc: 89.10%\n",
      "Epoch: 42 | Epoch Time: 0m 22s\n",
      "\tTrain Loss: 0.013 | Train Acc: 99.55%\n",
      "\t Val. Loss: 0.608 |  Val. Acc: 89.69%\n",
      "Epoch: 43 | Epoch Time: 0m 21s\n",
      "\tTrain Loss: 0.015 | Train Acc: 99.46%\n",
      "\t Val. Loss: 0.606 |  Val. Acc: 89.49%\n",
      "Epoch: 44 | Epoch Time: 0m 21s\n",
      "\tTrain Loss: 0.012 | Train Acc: 99.56%\n",
      "\t Val. Loss: 0.588 |  Val. Acc: 90.00%\n",
      "Epoch: 45 | Epoch Time: 0m 21s\n",
      "\tTrain Loss: 0.013 | Train Acc: 99.55%\n",
      "\t Val. Loss: 0.609 |  Val. Acc: 89.63%\n",
      "Epoch: 46 | Epoch Time: 0m 20s\n",
      "\tTrain Loss: 0.012 | Train Acc: 99.56%\n",
      "\t Val. Loss: 0.699 |  Val. Acc: 89.60%\n",
      "Epoch: 47 | Epoch Time: 0m 21s\n",
      "\tTrain Loss: 0.017 | Train Acc: 99.43%\n",
      "\t Val. Loss: 0.638 |  Val. Acc: 89.92%\n",
      "Epoch: 48 | Epoch Time: 0m 21s\n",
      "\tTrain Loss: 0.012 | Train Acc: 99.60%\n",
      "\t Val. Loss: 0.650 |  Val. Acc: 89.53%\n",
      "Epoch: 49 | Epoch Time: 0m 21s\n",
      "\tTrain Loss: 0.013 | Train Acc: 99.64%\n",
      "\t Val. Loss: 0.652 |  Val. Acc: 90.00%\n",
      "Epoch: 50 | Epoch Time: 0m 20s\n",
      "\tTrain Loss: 0.010 | Train Acc: 99.63%\n",
      "\t Val. Loss: 0.719 |  Val. Acc: 88.73%\n"
     ]
    }
   ],
   "source": [
    "N_EPOCHS = 50\n",
    "\n",
    "best_valid_loss = float('inf')\n",
    "\n",
    "for epoch in range(N_EPOCHS):\n",
    "\n",
    "    start_time = time.time()\n",
    "    \n",
    "    train_loss, train_acc = train(model, train_iterator, optimizer, criterion)\n",
    "    valid_loss, valid_acc = evaluate(model, valid_iterator, criterion)\n",
    "    \n",
    "    end_time = time.time()\n",
    "\n",
    "    epoch_mins, epoch_secs = epoch_time(start_time, end_time)\n",
    "    \n",
    "    if valid_loss < best_valid_loss:\n",
    "        best_valid_loss = valid_loss\n",
    "        torch.save(model.state_dict(), 'LSTM-model.pt')\n",
    "    \n",
    "    print(f'Epoch: {epoch+1:02} | Epoch Time: {epoch_mins}m {epoch_secs}s')\n",
    "    print(f'\\tTrain Loss: {train_loss:.3f} | Train Acc: {train_acc*100:.2f}%')\n",
    "    print(f'\\t Val. Loss: {valid_loss:.3f} |  Val. Acc: {valid_acc*100:.2f}%')"
   ]
  },
  {
   "cell_type": "code",
   "execution_count": 20,
   "metadata": {},
   "outputs": [
    {
     "name": "stdout",
     "output_type": "stream",
     "text": [
      "Test Loss: 0.318 | Test Acc: 87.77%\n"
     ]
    }
   ],
   "source": [
    "model.load_state_dict(torch.load('LSTM-model.pt'))\n",
    "\n",
    "test_loss, test_acc = evaluate(model, test_iterator, criterion)\n",
    "\n",
    "print(f'Test Loss: {test_loss:.3f} | Test Acc: {test_acc*100:.2f}%')"
   ]
  },
  {
   "cell_type": "code",
   "execution_count": null,
   "metadata": {},
   "outputs": [],
   "source": []
  }
 ],
 "metadata": {
  "kernelspec": {
   "display_name": "workspace",
   "language": "python",
   "name": "python3"
  },
  "language_info": {
   "codemirror_mode": {
    "name": "ipython",
    "version": 3
   },
   "file_extension": ".py",
   "mimetype": "text/x-python",
   "name": "python",
   "nbconvert_exporter": "python",
   "pygments_lexer": "ipython3",
   "version": "3.9.16"
  },
  "orig_nbformat": 4
 },
 "nbformat": 4,
 "nbformat_minor": 2
}
